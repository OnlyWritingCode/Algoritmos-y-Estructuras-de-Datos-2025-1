{
  "nbformat": 4,
  "nbformat_minor": 0,
  "metadata": {
    "colab": {
      "private_outputs": true,
      "provenance": []
    },
    "kernelspec": {
      "name": "python3",
      "display_name": "Python 3"
    },
    "language_info": {
      "name": "python"
    }
  },
  "cells": [
    {
      "cell_type": "markdown",
      "source": [
        "# 🧱 Títulos (Encabezados)\n",
        "\n",
        "# Título nivel 1\n",
        "## Título nivel 2\n",
        "### Título nivel 3\n",
        "#### Título nivel 4\n",
        "\n",
        "**Texto en negrita**\n",
        "\n",
        "*Texto en cursiva*\n",
        "\n",
        "~~Texto tachado~~\n",
        "\n",
        "\n",
        "- Elemento 1\n",
        "- Elemento 2\n",
        "  - Sub-elemento 2.1\n",
        "  - Sub-elemento 2.2\n",
        "\n",
        "\n",
        "1. Paso uno\n",
        "2. Paso dos\n",
        "3. Paso tres\n",
        "\n",
        "[Texto del enlace](https://i.ytimg.com/vi/cBg8nu8jYp0/hq720.jpg?sqp=-oaymwEhCK4FEIIDSFryq4qpAxMIARUAAAAAGAElAADIQj0AgKJD&rs=AOn4CLC71w8yZQ3Ses7ljGZ6N0QbN3Nuug)\n",
        "\n",
        "\n",
        "> Este es un texto citado o destacado.\n",
        "\n",
        "\n",
        "Usa la función `print()` para mostrar en consola.\n",
        "\n",
        "\n",
        "```\n",
        "def saludar():\n",
        "    print(\"Hola!\")\n",
        "```\n",
        "\n",
        "\n",
        "- [x] Tarea completada\n",
        "- [ ] Tarea pendiente\n",
        "\n",
        "\n",
        "\n",
        "| Nombre  | Edad | Ciudad     |\n",
        "|---------|------|------------|\n",
        "| Ana     | 23   | Santiago   |\n",
        "| Pedro   | 30   | Rancagua   |\n"
      ],
      "metadata": {
        "id": "mjY6D9-hzw4u"
      }
    },
    {
      "cell_type": "markdown",
      "source": [
        "#Tipos de datos"
      ],
      "metadata": {
        "id": "6enqJT6OG7JX"
      }
    },
    {
      "cell_type": "code",
      "execution_count": null,
      "metadata": {
        "id": "BKx2G7Oqzpvx"
      },
      "outputs": [],
      "source": [
        "#números y variable\n",
        "n1 = 1\n",
        "n2 = -3\n",
        "n3 = 1_000_000\n",
        "n4 = 19.3\n",
        "n5 = 20.1\n",
        "\n",
        "print(n1, n2, n3, n4, n5)\n",
        "\n",
        "\n",
        "n5.is_integer()\n",
        "#Devuelve true para los números de la escala 0 en el rango de 32 bits"
      ]
    },
    {
      "cell_type": "code",
      "source": [
        "#Booleano\n",
        "b1 = True\n",
        "b2 = False\n",
        "b3 = n1>n2\n",
        "print(b1, b2,b3)"
      ],
      "metadata": {
        "id": "AHxzvlMBIGCO"
      },
      "execution_count": null,
      "outputs": []
    },
    {
      "cell_type": "code",
      "source": [
        "#Texto\n",
        "text1= 'Hola,Mundo\\n'\n",
        "\n",
        "\n",
        "\n",
        "text3 = \"\"\"\n",
        "Hola, Mundo\"\"\"\n",
        "\n",
        "text2= \"Hola,Mundo\\n\"\n",
        "\n",
        "print(text1,text2,text3)\n",
        "\n",
        "print(text1[0].isupper())\n",
        "print(text1[0].islower())\n",
        "print(text1[0].isdigit())\n",
        "\n",
        "\n",
        "#print(text1,text2,text3, sep=\"\")"
      ],
      "metadata": {
        "id": "jvZ2QRUDJYx-"
      },
      "execution_count": null,
      "outputs": []
    },
    {
      "cell_type": "code",
      "source": [
        "#concatenar\n",
        "\n",
        "persona1 = 'Tralalero'\n",
        "persona2 = 'Tralala'\n",
        "\n",
        "concatenar = persona1 + persona2\n",
        "concatenar2 = persona1 + '\\n' + persona2\n",
        "concatenar3 = persona1 + ' ' + persona2\n",
        "\n",
        "print(concatenar)\n",
        "print(concatenar2)\n",
        "print(concatenar3)"
      ],
      "metadata": {
        "id": "0AFj1dh3L6Dx"
      },
      "execution_count": null,
      "outputs": []
    },
    {
      "cell_type": "code",
      "source": [
        "#Metodos incorporados en python\n",
        "texto = \"AlIcIa\"\n",
        "\n",
        "print(texto.upper())\n",
        "print(texto.lower())\n",
        "print(texto.capitalize())\n",
        "print(texto.swapcase())\n",
        "print(texto.replace(\"A\",\"1\"))\n"
      ],
      "metadata": {
        "id": "FOctCKl_NVXG"
      },
      "execution_count": null,
      "outputs": []
    },
    {
      "cell_type": "markdown",
      "source": [
        "#Listas\n",
        "Una lista en python es una estructura de datos que puede contener elementos de cualquier tipo, separados por comas. Las listas son mutables, es decir, se pueden modificar añadiendo, eliminando o cambiando elementos."
      ],
      "metadata": {
        "id": "CS2-AS30HCxm"
      }
    },
    {
      "cell_type": "code",
      "source": [
        "#Listas\n",
        "\n",
        "lista1 = [n1,n2,n3,n4,n5]\n",
        "lista2 = [b1,b2,b3]\n",
        "lista3 = [text1,text2,text3]\n",
        "\n",
        "print(lista1)\n",
        "print(lista2)\n",
        "print(lista3)"
      ],
      "metadata": {
        "id": "nwx_tth3VYmS"
      },
      "execution_count": null,
      "outputs": []
    },
    {
      "cell_type": "code",
      "source": [
        "#llamando elementos de listas\n",
        "primer_elemento = lista1[0]\n",
        "ultimo_elemento = lista1[-1]\n",
        "print(primer_elemento)\n",
        "print(ultimo_elemento)"
      ],
      "metadata": {
        "id": "em7Ya6FITwQ4"
      },
      "execution_count": null,
      "outputs": []
    },
    {
      "cell_type": "code",
      "source": [
        "#modificar elementos\n",
        "lista1[0] = 100\n",
        "print(lista1)"
      ],
      "metadata": {
        "id": "PLaIgRuBexKt"
      },
      "execution_count": null,
      "outputs": []
    },
    {
      "cell_type": "code",
      "source": [
        "#añadir valores a lista\n",
        "lista4 = [1,2,3,4,\"tres\",8.2]\n",
        "print(lista4)\n",
        "\n",
        "\n",
        "lista4.append(5)\n",
        "print(lista4)\n",
        "\n",
        "lista4.append([6,7,8])\n",
        "print(lista4)\n"
      ],
      "metadata": {
        "id": "01rOIHvTe_ZI"
      },
      "execution_count": null,
      "outputs": []
    },
    {
      "cell_type": "code",
      "source": [
        "#Clear\n",
        "lista4.clear()\n",
        "print(lista4)"
      ],
      "metadata": {
        "id": "60ai5LBRh9wz"
      },
      "execution_count": null,
      "outputs": []
    },
    {
      "cell_type": "code",
      "source": [
        "#copy\n",
        "lista5 = [1,2,3,4]\n",
        "lista_copiada = lista5.copy()\n",
        "\n",
        "print(lista_copiada)\n",
        "\n",
        "\n",
        "lista_copiada2 = lista5.copy()\n",
        "mal_copiado = lista5\n",
        "\n",
        "lista5[1] = \"dos\"\n",
        "\n",
        "print(lista5)\n",
        "print(mal_copiado)\n",
        "print(lista_copiada)\n",
        "print(lista_copiada2)"
      ],
      "metadata": {
        "id": "IcfqyCK6iqZF"
      },
      "execution_count": null,
      "outputs": []
    },
    {
      "cell_type": "code",
      "source": [
        "#contar\n",
        "\n",
        "lista_num = [1,2,3,4,5,6,7,35754,75,4,235,54,2,3,5,653,3,5,6,6,33,25,2345,34,23,2,3,4,5,6,7,2,3,4,5,6,2,4,5,6,2,3]\n",
        "contar_valor = lista_num.count(2)\n",
        "print(contar_valor)"
      ],
      "metadata": {
        "id": "MPw23EwVlrUZ"
      },
      "execution_count": null,
      "outputs": []
    },
    {
      "cell_type": "code",
      "source": [
        "#extend\n",
        "\n",
        "lista6 = [1,2,3,4]\n",
        "lista7 = [5,6,7,8]\n",
        "\n",
        "lista6.extend(lista7)\n",
        "print(lista6)"
      ],
      "metadata": {
        "id": "T1ZFp71amo5b"
      },
      "execution_count": null,
      "outputs": []
    },
    {
      "cell_type": "code",
      "source": [
        "#obtener primera ocurrencia\n",
        "lista8 = [7,8,9,1,2,3,4,5,6,\"2\"]\n",
        "\n",
        "indice = lista8.index(2)\n",
        "indice2 = lista8.index(7)\n",
        "print(indice)\n",
        "print(indice2)"
      ],
      "metadata": {
        "id": "dYBQBuN1m26K"
      },
      "execution_count": null,
      "outputs": []
    },
    {
      "cell_type": "code",
      "source": [
        "#insertar elemento\n",
        "lista9 = [1,2,3,4,5,6,7,8,9]\n",
        "lista9.insert(3,0)\n",
        "print(lista9)"
      ],
      "metadata": {
        "id": "e1JpDr4TE5kP"
      },
      "execution_count": null,
      "outputs": []
    },
    {
      "cell_type": "code",
      "source": [
        "#eliminar por indice\n",
        "lista10 = [1,2,3,4,5,6,7,8,9]\n",
        "lista10.pop(3)\n",
        "print(lista10)"
      ],
      "metadata": {
        "id": "eUVyCiUCF6ca"
      },
      "execution_count": null,
      "outputs": []
    },
    {
      "cell_type": "code",
      "source": [
        "#eliminar elemento\n",
        "lista11 = [\"uno\",\"dos\",\"tres\",\"cuatro\"]\n",
        "lista11.remove(\"dos\")\n",
        "print(lista11)"
      ],
      "metadata": {
        "id": "Jx0hkKByGMsD"
      },
      "execution_count": null,
      "outputs": []
    },
    {
      "cell_type": "code",
      "source": [
        "#reverse\n",
        "lista12 = [1,2,3,4,5,6,7,8,9]\n",
        "lista12.reverse()\n",
        "print(lista12)"
      ],
      "metadata": {
        "id": "4efkeC9YGepS"
      },
      "execution_count": null,
      "outputs": []
    },
    {
      "cell_type": "code",
      "source": [
        "#sort\n",
        "lista13 = [9,5,7,6,56,1,65,2,1]\n",
        "lista13.sort()\n",
        "print(lista13)\n",
        "\n",
        "lista13.sort(reverse=True)\n",
        "print(lista13)"
      ],
      "metadata": {
        "id": "3yGTUahXGhCq"
      },
      "execution_count": null,
      "outputs": []
    },
    {
      "cell_type": "markdown",
      "source": [
        "#Tuplas\n",
        "Una tupla es similar a una lista, pero es inmutable, lo que significa que no se puede modificar sus elementos después de su creación. Cada elemento debe estar separados por comas."
      ],
      "metadata": {
        "id": "VJSLRlQGHdXR"
      }
    },
    {
      "cell_type": "code",
      "source": [
        "#crear tupla\n",
        "tupla = (1,2,\"tres\",5.2)\n",
        "tupla"
      ],
      "metadata": {
        "id": "Qa4ruJPXHxWX"
      },
      "execution_count": null,
      "outputs": []
    },
    {
      "cell_type": "code",
      "source": [
        "#acceder a elementos de la tupla\n",
        "tupla[0], tupla[2]"
      ],
      "metadata": {
        "id": "V4xHxMUsIFTa"
      },
      "execution_count": null,
      "outputs": []
    },
    {
      "cell_type": "code",
      "source": [
        "#desempaquetar\n",
        "tupla1 = (1,\"dos\",3.1,\"cutr4\",(5,\"yseis\"))\n",
        "\n",
        "listatest = [7,\"eight\",9.4543,\"X\",[\"entonce\",123]]\n",
        "\n",
        "a,b,c,d,e = tupla1\n",
        "print(b)\n",
        "\n",
        "f,g,h,i,j = listatest\n",
        "print(j)\n",
        "\n",
        "c,d"
      ],
      "metadata": {
        "id": "bCCiJmveIYGC"
      },
      "execution_count": null,
      "outputs": []
    },
    {
      "cell_type": "code",
      "source": [
        "#suma de tuplas (aplica igual para listas)\n",
        "tupla2 = (1,2,3,4)\n",
        "tupla3 = (5,6,7,8)\n",
        "\n",
        "listasum1 = [1,2,3,4]\n",
        "listasum2 = [5,6,7,8]\n",
        "\n",
        "print(tupla2 + tupla3) #resultado es tupla\n",
        "print(listasum1 + listasum2) #resultado es lista}\n",
        "\n",
        "#print(listasum1 + tupla1) Invalido"
      ],
      "metadata": {
        "id": "h_t3OYrmJo0-"
      },
      "execution_count": null,
      "outputs": []
    },
    {
      "cell_type": "markdown",
      "source": [
        "#Conjuntos\n",
        "Es una coleccion desordenada de elementos únicos. Se definen utilizando {} o funcion set (). Admiten operaciones como unión, intersección y diferencia, utiles para manipular datos únicos"
      ],
      "metadata": {
        "id": "cDcV47_7K8mE"
      }
    },
    {
      "cell_type": "code",
      "source": [
        "#crear un conjunto\n",
        "conjunto = {2,3,4,5,5,\"seis\",\"seis\",1,1,\"dos\",\"uno\",\"cuatro\"} #solo un elemento de cada uno\n",
        "conjunto"
      ],
      "metadata": {
        "id": "2MWZ2z5dK6T4"
      },
      "execution_count": null,
      "outputs": []
    },
    {
      "cell_type": "code",
      "source": [
        "#crear conjunto con set\n",
        "noconjunto_tupla = set((1,2,3,4,5,5,\"seis\",\"seis\",1,1,\"dos\",\"uno\",\"cuatro\"))\n",
        "noconjunto_lista = set([1,2,3,4,5,5,\"seis\",\"seis\",1,1,\"dos\",\"uno\",\"cuatro\"])\n",
        "print(noconjunto_tupla)\n",
        "print(noconjunto_lista)"
      ],
      "metadata": {
        "id": "n4D3nsOaL-aX"
      },
      "execution_count": null,
      "outputs": []
    },
    {
      "cell_type": "code",
      "source": [
        "#add\n",
        "conjunto2 = {1,2,3}\n",
        "conjunto2.add(4)\n",
        "conjunto2"
      ],
      "metadata": {
        "id": "tRps4--mN7r_"
      },
      "execution_count": null,
      "outputs": []
    },
    {
      "cell_type": "code",
      "source": [
        "#clear\n",
        "conjunto2.clear()\n",
        "conjunto2"
      ],
      "metadata": {
        "id": "cLTWqgV0OEJX"
      },
      "execution_count": null,
      "outputs": []
    },
    {
      "cell_type": "code",
      "source": [
        "#difference\n",
        "conjunto3 = (1,2,3,4,5,6)\n",
        "conjunto4 = (4,5,6,7,8,9)\n",
        "\n",
        "set1 = set(conjunto3)\n",
        "set2 = set(conjunto4)\n",
        "\n",
        "diferencia1 = set1.difference(set2)\n",
        "diferencia2 = set2.difference(set1)\n",
        "\n",
        "print(diferencia1)\n",
        "print(diferencia2)"
      ],
      "metadata": {
        "id": "j3bitz1_OaYY"
      },
      "execution_count": null,
      "outputs": []
    },
    {
      "cell_type": "code",
      "source": [
        "#eliminar\n",
        "conjunto5 = {1,2,3,4,5,6,\"cinco\"}\n",
        "conjunto5.discard(3)\n",
        "print(conjunto5)\n",
        "\n",
        "conjunto5.remove(\"cinco\")\n",
        "print(conjunto5)"
      ],
      "metadata": {
        "id": "n8nozjRgQxOq"
      },
      "execution_count": null,
      "outputs": []
    },
    {
      "cell_type": "code",
      "source": [
        "#intersección\n",
        "conjunto6 = {1,2,3,4,5,6}\n",
        "conjunto7 = {4,5,6,7,8,9}\n",
        "\n",
        "interseccion = conjunto6.intersection(conjunto7)\n",
        "print(interseccion)"
      ],
      "metadata": {
        "id": "1fzFr3ejRAHz"
      },
      "execution_count": null,
      "outputs": []
    },
    {
      "cell_type": "code",
      "source": [
        "#subset\n",
        "conjunto8 = {1,2,3,4,5,6}\n",
        "conjunto9 = {4,5,6}\n",
        "\n",
        "print(conjunto9.issubset(conjunto8))\n",
        "print(conjunto8.issubset(conjunto9))"
      ],
      "metadata": {
        "id": "Es3XeodySHR5"
      },
      "execution_count": null,
      "outputs": []
    },
    {
      "cell_type": "markdown",
      "source": [
        "#Diccionarios\n",
        "Son colecciones desordenadas de elementos almacenados en pares clave-valor.\n",
        "Permiten almacenar y acceder a datos con una clave única, facilitando la gestión eficiente de información. Son mutables, dinámicos y pueden contener diversos tipos de datos como valores.\n"
      ],
      "metadata": {
        "id": "8AdhdGO7nSoX"
      }
    },
    {
      "cell_type": "code",
      "source": [
        "#Diccionario\n",
        "meme_brainrot = {\n",
        "    \"nombre\" : \"Bombardiro Crocodilo\",\n",
        "    \"frase\" : 'un fottuto alligatore volante',\n",
        "    \"rareza\" : 5\n",
        "}\n",
        "\n",
        "#acceder a valores\n",
        "nombre_del_meme = meme_brainrot[\"nombre\"]\n",
        "frase_del_meme = meme_brainrot[\"frase\"]\n",
        "rareza_del_meme = meme_brainrot[\"rareza\"]\n",
        "\n",
        "#mostrar\n",
        "print(nombre_del_meme)\n",
        "print(frase_del_meme)\n",
        "print(rareza_del_meme)"
      ],
      "metadata": {
        "id": "0oPlkx4Mo2gw"
      },
      "execution_count": null,
      "outputs": []
    },
    {
      "cell_type": "code",
      "source": [
        "#cualquier tipo de dato es valido\n",
        "diccionario = {\n",
        "    \"Diccionarios\" : {\"numeros\": [1,2,3,4]},\n",
        "    \"Tuplas\" :(1,2,\"cinco\"),\n",
        "    \"Listas\" : [\"Hola\",42314,\"a\",'b'],\n",
        "    \"conjuntos\": {\"es todo el rato lo mismo xd\",2}\n",
        "}\n",
        "\n",
        "diccionario"
      ],
      "metadata": {
        "id": "v5MkRexWqfzx"
      },
      "execution_count": null,
      "outputs": []
    },
    {
      "cell_type": "code",
      "source": [
        "#Se puede usar .clear()\n",
        "diccionario.clear()\n",
        "diccionario"
      ],
      "metadata": {
        "id": "gPrNdvBArQuC"
      },
      "execution_count": null,
      "outputs": []
    },
    {
      "cell_type": "code",
      "source": [
        "#.copy\n",
        "copia = meme_brainrot.copy()\n",
        "copia"
      ],
      "metadata": {
        "id": "suxqEd0mrcRV"
      },
      "execution_count": null,
      "outputs": []
    },
    {
      "cell_type": "code",
      "source": [
        "#Lista de atributos\n",
        "#tambien se puede Linea_Main = [\"Top\",\"Mid\",\"JG\",\"ADC\",\"SUPP\"]\n",
        "Linea_Main = {\"Top\",\"Mid\",\"JG\",\"ADC\",\"SUPP\"}\n",
        "valor_predet = \"Troll\"\n",
        "\n",
        "#Crear diccionario de atributos con valor predeterminado\n",
        "Server_LAS = dict.fromkeys(Linea_Main,valor_predet)\n",
        "\n",
        "print(Server_LAS)"
      ],
      "metadata": {
        "id": "AzhQ8u6yr_KB"
      },
      "execution_count": null,
      "outputs": []
    },
    {
      "cell_type": "code",
      "source": [
        "#Lista de atributos con info\n",
        "Linea_Main_troll = {\"Top\": \"Teemo\",\"Mid\":\"Yasurdo\",\"JG\": \"Skarner\",\"ADC\":\"Ziggs\",\"SUPP\":\"Lux\"}\n",
        "\n",
        "#Obtener vista de las claves y valores\n",
        "Server_LAS_Real = Linea_Main_troll.keys()\n",
        "Server_LAS_Rea2 = Linea_Main_troll.values()\n",
        "\n",
        "print(Server_LAS_Real)\n",
        "print(Server_LAS_Rea2)"
      ],
      "metadata": {
        "id": "5kqogJxIt5W1"
      },
      "execution_count": null,
      "outputs": []
    },
    {
      "cell_type": "markdown",
      "source": [
        "#Funciones\n",
        "Son bloques de código reutilizable que realizan una tarea específica. Permiten modularizar el código, mejorar su legilibilidad y mantenimiento. Se definen con la palabra clabe \"def\", pueden recibir parámetros y devolver valores."
      ],
      "metadata": {
        "id": "H7EWMSI55c8P"
      }
    },
    {
      "cell_type": "code",
      "source": [
        "#ejemplo\n",
        "\n",
        "def saludar(nombre: str) -> None:\n",
        "    \"\"\"\n",
        "    Función que saluda a una persona por su nombre.\n",
        "\n",
        "    Args:\n",
        "        nombre (str): El nombre de la persona a saludar.\n",
        "\n",
        "    Returns:\n",
        "        None\n",
        "    \"\"\"\n",
        "\n",
        "    print(f\"Hola,{nombre}!\")\n",
        "\n",
        "#llamar\n",
        "saludar(\"Billy\")"
      ],
      "metadata": {
        "id": "sQIr53sH5-bX"
      },
      "execution_count": null,
      "outputs": []
    },
    {
      "cell_type": "code",
      "source": [
        "#ejemplo con 2 parametros\n",
        "\n",
        "def saludar(nombre: str, edad: int) -> None:\n",
        "\n",
        "    if edad >= 18:\n",
        "        print(f\"Hola,{nombre}! Eres mayor de edad. pq tu edad es {edad}\")\n",
        "    else:\n",
        "        print(f\"Hola,{nombre}! Eres menor de edad. pq tu edad es {edad}\")\n",
        "\n",
        "\n",
        "\n",
        "#llamar\n",
        "saludar(\"Billy\",15)\n",
        "\n",
        "saludar(\"Mandy\",23)"
      ],
      "metadata": {
        "id": "FsVgTJ796mtJ"
      },
      "execution_count": null,
      "outputs": []
    },
    {
      "cell_type": "code",
      "source": [
        "def sqr(x: int) -> float:\n",
        "    return x**2\n",
        "\n",
        "sqr(9)"
      ],
      "metadata": {
        "id": "R_muvGpy7Z7L"
      },
      "execution_count": null,
      "outputs": []
    },
    {
      "cell_type": "code",
      "source": [
        "#funcion lambda, funcion anónima, definida en una linea para tareas simples\n",
        "concatenar_texto = lambda a,b: a + \" \" + b\n",
        "\n",
        "concatenar_texto(\"Hack\",\"Reloco\")"
      ],
      "metadata": {
        "id": "c4Fa4s9D8OzF"
      },
      "execution_count": null,
      "outputs": []
    },
    {
      "cell_type": "markdown",
      "source": [
        "#Clases\n",
        "Una clase es un modelo para crear objetos que agrupan datos y funciones relacionadas. Define la estructura y comportamiento de los objetos. Permiten reutilizar codigo"
      ],
      "metadata": {
        "id": "Dra5Wc9U9i4x"
      }
    },
    {
      "cell_type": "code",
      "source": [
        "class Series:\n",
        "    def __init__(self,nombre,temporadas,genero):\n",
        "        #self es una convencion utilizada dentro de los metodos de una clase\n",
        "        #para hacer referencia a la intancia actual de la clase\n",
        "        #nos permite acceder a los atributos y metodos de esa instancia dentro\n",
        "        #de los metodos de la clase. De cualquier metodo que definamos despues\n",
        "        self.nombre = nombre\n",
        "        self.temporadas = temporadas\n",
        "        self.genero = genero\n",
        "        self.finalizada = False\n",
        "        self.puntuacion = 0\n",
        "\n",
        "    def finalizar(self):\n",
        "        if not self.finalizada:\n",
        "            self.finalizada = True\n",
        "            print(f\"{self.nombre} ha sido finalizada\")\n",
        "        else:\n",
        "            print(f\"{self.nombre} ya ha sido finalizada\")\n",
        "\n",
        "    def otratemp_paraganar_mas_dinero(self):\n",
        "        if self.finalizada:\n",
        "            self.finalizada = False\n",
        "            self.temporadas += 1\n",
        "            print(f\"{self.nombre} ha sido reanudada =D\")\n",
        "        else:\n",
        "            print(f\"{self.nombre} no ha sido finalizada\")\n",
        "\n",
        "    def puntuacion_positiva(self):\n",
        "        self.puntuacion += 1\n",
        "\n",
        "    def puntuacion_negativa(self):\n",
        "        if self.puntuacion > 0:\n",
        "            self.puntuacion -= 1\n",
        "        else:\n",
        "            print(\"Esta serie no puede ser mas mala xd\")\n",
        "\n",
        "    def mostrar_puntuacion(self):\n",
        "        print(f\"La puntuacion de {self.nombre} es {self.puntuacion}\")"
      ],
      "metadata": {
        "id": "_7VO6gugkQxT"
      },
      "execution_count": null,
      "outputs": []
    },
    {
      "cell_type": "code",
      "source": [
        "#crear una instancia de la clase\n",
        "\n",
        "serie1 = Series(\"The Walking Dead\",10,\"Terror\")\n",
        "\n",
        "#acceder a los atributos de la instancia\n",
        "print(serie1.nombre)\n",
        "print(serie1.temporadas)\n",
        "print(serie1.genero)\n",
        "print(serie1.finalizada)\n",
        "print(serie1.puntuacion)"
      ],
      "metadata": {
        "id": "PMIH8Ut4nmFR"
      },
      "execution_count": null,
      "outputs": []
    },
    {
      "cell_type": "code",
      "source": [
        "#utilizar metodos\n",
        "serie1.finalizar()\n",
        "serie1.puntuacion_positiva()\n",
        "serie1.mostrar_puntuacion()\n",
        "\n",
        "serie1.puntuacion_negativa()\n",
        "serie1.mostrar_puntuacion()\n",
        "serie1.puntuacion_negativa()\n"
      ],
      "metadata": {
        "id": "DQO_5vihoUB4"
      },
      "execution_count": null,
      "outputs": []
    },
    {
      "cell_type": "markdown",
      "source": [
        "#Condicional\n"
      ],
      "metadata": {
        "id": "FGgnZhdsrlbH"
      }
    },
    {
      "cell_type": "code",
      "source": [
        "#ej 1:\n",
        "nivel_de_tristeza = 8\n",
        "\n",
        "if nivel_de_tristeza <= 0:\n",
        "    estado = \"Muy Feeliz\"\n",
        "elif nivel_de_tristeza > 0 and nivel_de_tristeza < 5:\n",
        "    estado = \"Poco Triste\"\n",
        "else:\n",
        "    estado = \"Muy Triste\"\n",
        "\n",
        "print(estado)"
      ],
      "metadata": {
        "id": "6q6SulETs2_I"
      },
      "execution_count": null,
      "outputs": []
    },
    {
      "cell_type": "markdown",
      "source": [
        "#Bucles\n",
        "Estructuras de control que permiten repetir un bloque de código múltiples veces."
      ],
      "metadata": {
        "id": "Jd9TZnyvvZgh"
      }
    },
    {
      "cell_type": "code",
      "source": [
        "#ej1: Iterar sobre una lista\n",
        "cursos_fomes = [\"Comunicación Oral y Escrita\",\"Herramientas Computacionales\",\"Ética y Responsabilidad Social en Ingeniería\"]\n",
        "\n",
        "for fomes in cursos_fomes:\n",
        "    print(fomes)"
      ],
      "metadata": {
        "id": "k5JbDKbIv6OO"
      },
      "execution_count": null,
      "outputs": []
    },
    {
      "cell_type": "code",
      "source": [
        "#ej 2: Valores dentro de un rango\n",
        "for numero in range (0, 9,2):\n",
        "    print(numero)\n",
        "\n",
        "for n2 in range (8, 100,80):\n",
        "    print(n2)"
      ],
      "metadata": {
        "id": "XgkyTbWxyEIw"
      },
      "execution_count": null,
      "outputs": []
    },
    {
      "cell_type": "code",
      "source": [
        "#ej3: Iterar sobre una palabra\n",
        "frase = \"Palabra akldlñksdd{ñgk}))\"\n",
        "\n",
        "for letra in frase:\n",
        "    print(letra)"
      ],
      "metadata": {
        "id": "cmIUo7hSyyQe"
      },
      "execution_count": null,
      "outputs": []
    },
    {
      "cell_type": "code",
      "source": [
        "#ej 4: calcular la suma de los valores en un rango\n",
        "suma = 0\n",
        "for numero in range(1, 5_000):\n",
        "    suma += numero\n",
        "\n",
        "print (suma)"
      ],
      "metadata": {
        "id": "0vSQyuOr0-_I"
      },
      "execution_count": null,
      "outputs": []
    },
    {
      "cell_type": "code",
      "source": [
        "#ej5: iterar sobre un diccionario\n",
        "estudiantes = {\"Juan\": 25, \"Marco\": 20, \"Anita\" : 30}\n",
        "\n",
        "for nombre, edad in estudiantes.items():\n",
        "    print(f\"{nombre} tiene {edad} años\")"
      ],
      "metadata": {
        "id": "vVW7XG7wCSkO"
      },
      "execution_count": null,
      "outputs": []
    },
    {
      "cell_type": "code",
      "source": [
        "#ej while 1\n",
        "contador = 6\n",
        "while contador > 0:\n",
        "    print(contador)\n",
        "    contador -= 1"
      ],
      "metadata": {
        "id": "ms1dQYBVCq9i"
      },
      "execution_count": null,
      "outputs": []
    },
    {
      "cell_type": "code",
      "source": [
        "#ej2 suma de numeros\n",
        "limite = 5\n",
        "suma = 0\n",
        "while suma <= limite:\n",
        "    print(suma)\n",
        "    suma += 0.5"
      ],
      "metadata": {
        "id": "GLg7UuTzEhah"
      },
      "execution_count": null,
      "outputs": []
    },
    {
      "cell_type": "code",
      "source": [
        "#ej 3 busqueda de elemento\n",
        "elemento_buscado = 12\n",
        "\n",
        "lista = [1,2,3,4,5,6,7,8,9]\n",
        "indice = 0\n",
        "\n",
        "while(indice < len(lista) and (lista[indice] != elemento_buscado)):\n",
        "    indice += 1\n",
        "\n",
        "if indice < len(lista):\n",
        "    print(f\"El elemento {elemento_buscado} se encuentra en el indice {indice}\")\n",
        "else:\n",
        "    print(f\"El elemento {elemento_buscado} no se encuentra en la lista\")\n"
      ],
      "metadata": {
        "id": "NQnW9_XLFgaJ"
      },
      "execution_count": null,
      "outputs": []
    },
    {
      "cell_type": "markdown",
      "source": [
        "#Gráficos de visualizacion\n"
      ],
      "metadata": {
        "id": "y7zNrgWLGzUx"
      }
    },
    {
      "cell_type": "code",
      "source": [
        "import matplotlib.pyplot as plt\n",
        "\n",
        "#grafico de lineas\n",
        "x = [1,2,3,4,5]\n",
        "y = [1,2,3,4,5]\n",
        "\n",
        "plt.plot(x,y)\n",
        "plt.grid()\n",
        "plt.title(\"Grafico de lineas\")\n",
        "plt.xlabel(\"Eje X\")\n",
        "plt.ylabel(\"Eje Y\")\n",
        "plt.show()"
      ],
      "metadata": {
        "id": "ZDjTZmW6G6Yx"
      },
      "execution_count": null,
      "outputs": []
    },
    {
      "cell_type": "markdown",
      "source": [
        "# Ejercicio 1: Cambiar String\n",
        "\n",
        "Implemente una función `cambiar_string(cadena,simbol)` que reciba un string cualquiera y realice las siguientes transformaciones:\n",
        "\n",
        "- Si encuentra una **letra minúscula**, debe cambiarla a **mayúscula**.\n",
        "- Si encuentra una **letra mayúscula**, debe cambiarla a **minúscula**.\n",
        "- Si encuentra un **número**, debe reemplazarlo por un símbolo `cualquiera`.\n",
        "- Todos los otros caracteres (espacios, signos, etc.) deben permanecer sin cambios.\n",
        "\n",
        "#### Ejemplo:\n",
        "\n",
        "```\n",
        "cambiar_string(\"Hola123!\")\n",
        "```\n",
        "## Resultado esperado: \"hOLA###!\""
      ],
      "metadata": {
        "id": "gVKLiwImV1UT"
      }
    },
    {
      "cell_type": "code",
      "source": [
        "def cambiar_string(cadena,simbol):\n",
        "    resultado = \"\"\n",
        "    for caracter in cadena:\n",
        "        if caracter.islower():\n",
        "            resultado += caracter.upper()\n",
        "        elif caracter.isupper():\n",
        "            resultado += caracter.lower()\n",
        "        elif caracter.isdigit():\n",
        "            resultado += simbol\n",
        "        else:\n",
        "            resultado += caracter\n",
        "    return resultado\n",
        "\n",
        "# Prueba\n",
        "print(cambiar_string(\"Hola123!\",\"?\"))     # \"hOLA###!\"\n",
        "print(cambiar_string(\"Python3.9\",\"*\"))    # \"pYTHON#.#\"\n",
        "print(cambiar_string(\"123ABCdef\",\"+\"))    # \"###abcDEF\""
      ],
      "metadata": {
        "id": "dnvhK0HEV-P8"
      },
      "execution_count": null,
      "outputs": []
    },
    {
      "cell_type": "markdown",
      "source": [
        "# Ejercicio 2: Sumar valores aleatorios hasta encontrar uno prohibido\n",
        "\n",
        "Se entrega una **función auxiliar** que genera un número aleatorio entre 0 y 20:\n",
        "\n",
        "Debes implementar una función llamada sumar_hasta_prohibido(prohibido) que haga lo siguiente:\n",
        "\n",
        "```\n",
        "Llama repetidamente a obtener_valor().\n",
        "```\n",
        "Mientras el número no sea igual al valor prohibido, debes:\n",
        "\n",
        "* Sumarlo en una variable acumuladora.\n",
        "\n",
        "* Guardarlo en una lista llamada valores.\n",
        "\n",
        "Cuando aparezca el número prohibido, el programa se detiene y retorna:\n",
        "\n",
        "* La suma total de los números válidos.\n",
        "\n",
        "* La lista completa de los valores generados (sin incluir el prohibido).\n"
      ],
      "metadata": {
        "id": "GuOwX1545o57"
      }
    },
    {
      "cell_type": "code",
      "source": [
        "import random\n",
        "\n",
        "def obtener_valor():\n",
        "    return random.randint(0, 20)"
      ],
      "metadata": {
        "id": "YHgystpUlANA"
      },
      "execution_count": null,
      "outputs": []
    },
    {
      "cell_type": "code",
      "source": [
        "def sumar_hasta_prohibido(prohibido):\n",
        "    suma = 0\n",
        "    valores = []\n",
        "\n",
        "    while True:\n",
        "        numero = obtener_valor()\n",
        "        if numero == prohibido:\n",
        "            break\n",
        "        suma += numero\n",
        "        valores.append(numero)\n",
        "\n",
        "    return suma, valores\n",
        "\n",
        "# Prueba\n",
        "suma, lista = sumar_hasta_prohibido(15)\n",
        "print(\"Suma total:\", suma)\n",
        "print(\"Valores generados:\", lista)"
      ],
      "metadata": {
        "id": "D_CNxoOMXt23"
      },
      "execution_count": null,
      "outputs": []
    },
    {
      "cell_type": "markdown",
      "source": [
        "# Ejercicio 3: Sumar los valores de una lista enlazada\n",
        "\n",
        "En este ejercicio trabajarás con **listas enlazadas simples**.\n",
        "\n",
        "Ya se te entrega el código base que incluye:\n",
        "\n",
        "- La clase `Nodo`, para representar cada elemento de la lista enlazada.\n",
        "- La función `ListaAListaEnlazada(lista)` que convierte una lista de Python a una lista enlazada.\n",
        "- La función `imprimirLE(cabecera)` para imprimir todos los valores de la lista enlazada.\n",
        "\n",
        "### 🔹 Tu tarea\n",
        "\n",
        "Debes implementar la función `suma_valores(cabecera)`, que recorra la lista enlazada y retorne la **suma total de los elementos contenidos en ella**.\n"
      ],
      "metadata": {
        "id": "PXyEH7b48fye"
      }
    },
    {
      "cell_type": "code",
      "source": [
        "# Clase Nodo\n",
        "class Nodo:\n",
        "    def __init__(self, Elemento):\n",
        "        self.Elemento = Elemento\n",
        "        self.Siguiente = None\n",
        "\n",
        "# Convierte una lista Python a lista enlazada\n",
        "def ListaAListaEnlazada(Lista):\n",
        "    Cabecera = Nodo(Lista[0])\n",
        "    NodoAnterior = Cabecera\n",
        "    for Elemento in Lista[1:]:\n",
        "        NodoElemento = Nodo(Elemento)\n",
        "        NodoAnterior.Siguiente = NodoElemento\n",
        "        NodoAnterior = NodoElemento\n",
        "    return Cabecera\n",
        "\n",
        "# Imprime una lista enlazada desde su cabecera\n",
        "def imprimirLE(Cabecera):\n",
        "    print(\"----------------\")\n",
        "    print(\"Lista Enlazada: \")\n",
        "    NodoActual = Cabecera\n",
        "    while NodoActual != None:\n",
        "        print(NodoActual.Elemento)\n",
        "        NodoActual = NodoActual.Siguiente\n",
        "    print(\"----------------\")\n",
        "\n",
        "def suma_valores(Cabecera):\n",
        "    suma = 0\n",
        "    NodoActual = Cabecera\n",
        "    while NodoActual != None:\n",
        "        suma += NodoActual.Elemento\n",
        "        NodoActual = NodoActual.Siguiente\n",
        "    return suma\n",
        "\n",
        "Cabecera = ListaAListaEnlazada([10, 3, 5, 2])\n",
        "print(\"Lista enlazada:\")\n",
        "imprimirLE(Cabecera)\n",
        "\n",
        "print(\"Suma de valores:\", suma_valores(Cabecera))"
      ],
      "metadata": {
        "id": "nWjIjzdu8ev1"
      },
      "execution_count": null,
      "outputs": []
    }
  ]
}